{
  "nbformat": 4,
  "nbformat_minor": 0,
  "metadata": {
    "colab": {
      "provenance": []
    },
    "kernelspec": {
      "name": "python3",
      "display_name": "Python 3"
    },
    "language_info": {
      "name": "python"
    }
  },
  "cells": [
    {
      "cell_type": "markdown",
      "source": [
        "Calcular el mayor de dos números ingresados por teclado usando un operador\n",
        "ternario"
      ],
      "metadata": {
        "id": "SGY5GX0HFNk8"
      }
    },
    {
      "cell_type": "code",
      "source": [
        "a = int(input(\"Ingrese el primer número: \"))\n",
        "b = int(input(\"Ingrese el segundo número: \"))\n",
        "\n",
        "mayor = a if a > b else b\n",
        "\n",
        "print(\"El número mayor es:\", mayor)"
      ],
      "metadata": {
        "colab": {
          "base_uri": "https://localhost:8080/"
        },
        "id": "DgrciXtMFQXb",
        "outputId": "a44d3604-d66d-4769-a934-0db9ce14c41a"
      },
      "execution_count": 1,
      "outputs": [
        {
          "output_type": "stream",
          "name": "stdout",
          "text": [
            "Ingrese el primer número: 2\n",
            "Ingrese el segundo número: 4\n",
            "El número mayor es: 4\n"
          ]
        }
      ]
    },
    {
      "cell_type": "markdown",
      "source": [
        "Buscar una palabra en una lista ingresada por teclado usando args y un operador\n",
        "ternario"
      ],
      "metadata": {
        "id": "1VMdP_AZFeKT"
      }
    },
    {
      "cell_type": "code",
      "source": [
        "lista = ['hola','chau']\n",
        "palabra = input(\"Ingrese una palabra: \")\n",
        "\n",
        "def buscar_palabras(*args):\n",
        "    existe = True if palabra in args else False\n",
        "    return existe\n",
        "\n",
        "print(f\"la palabra existe: {buscar_palabras(*lista)}\")\n",
        ""
      ],
      "metadata": {
        "colab": {
          "base_uri": "https://localhost:8080/"
        },
        "id": "tdjgPuqBFfIa",
        "outputId": "7a292995-fe6e-4dc1-fdb1-967eab81cf16"
      },
      "execution_count": 4,
      "outputs": [
        {
          "output_type": "stream",
          "name": "stdout",
          "text": [
            "Ingrese una palabra: asd\n",
            "la palabra existe: False\n"
          ]
        }
      ]
    },
    {
      "cell_type": "markdown",
      "source": [
        "Determinar si un número es par o impar"
      ],
      "metadata": {
        "id": "iDyQuF1YHmpw"
      }
    },
    {
      "cell_type": "code",
      "source": [
        "numero = int(input(\"Ingrese un número: \"))\n",
        "\n",
        "paridad = \"par\" if numero % 2 == 0 else \"impar\"\n",
        "\n",
        "print(f\"El número {numero} es {paridad}\")"
      ],
      "metadata": {
        "colab": {
          "base_uri": "https://localhost:8080/"
        },
        "id": "H_AKGt69HniZ",
        "outputId": "433126c0-ef57-4424-b0c1-0183ea137b62"
      },
      "execution_count": 6,
      "outputs": [
        {
          "output_type": "stream",
          "name": "stdout",
          "text": [
            "Ingrese un número: 3\n",
            "El número 3 es impar\n"
          ]
        }
      ]
    },
    {
      "cell_type": "markdown",
      "source": [
        "Calcular el promedio de una lista de números usando args y un operador ternario\n"
      ],
      "metadata": {
        "id": "7qURllR9HzwG"
      }
    },
    {
      "cell_type": "code",
      "source": [
        "def calcular_promedio(*args):\n",
        "\n",
        "  return sum(args) / len(args)\n",
        "\n",
        "numeros = [1, 2, 3, 4, 5]\n",
        "promedio = calcular_promedio(*numeros)\n",
        "print(f\"El promedio de la lista es: {promedio}\")"
      ],
      "metadata": {
        "colab": {
          "base_uri": "https://localhost:8080/"
        },
        "id": "wN94AE39H0Ty",
        "outputId": "ac828111-5df3-4de3-bbe5-6a6a845e70b6"
      },
      "execution_count": 11,
      "outputs": [
        {
          "output_type": "stream",
          "name": "stdout",
          "text": [
            "El promedio de la lista es: 3.0\n"
          ]
        }
      ]
    },
    {
      "cell_type": "markdown",
      "source": [
        "Imprimir un mensaje de error si no se pasan suficientes argumentos\n",
        "\n",
        "---\n",
        "\n"
      ],
      "metadata": {
        "id": "WBfo5Tb0IQk1"
      }
    },
    {
      "cell_type": "code",
      "source": [
        "def imprimir_mensaje_error(*args):\n",
        "  if len(args) < 2 :\n",
        "    print(\"Error: Se requieren al menos dos argumentos.\")\n",
        "  else:\n",
        "    print(\"Los argumentos son:\", args)\n",
        "\n",
        "imprimir_mensaje_error(1)\n",
        "imprimir_mensaje_error(1,2)"
      ],
      "metadata": {
        "colab": {
          "base_uri": "https://localhost:8080/"
        },
        "id": "SxVcnY9DIrG6",
        "outputId": "d544f1db-cc5a-461d-fc9c-ecdda9fd49a3"
      },
      "execution_count": 13,
      "outputs": [
        {
          "output_type": "stream",
          "name": "stdout",
          "text": [
            "Error: Se requieren al menos dos argumentos.\n",
            "Los argumentos son: (1, 2)\n"
          ]
        }
      ]
    }
  ]
}